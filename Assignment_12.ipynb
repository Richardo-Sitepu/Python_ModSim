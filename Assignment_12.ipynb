{
  "nbformat": 4,
  "nbformat_minor": 0,
  "metadata": {
    "colab": {
      "name": "Untitled1.ipynb",
      "provenance": [],
      "collapsed_sections": [],
      "authorship_tag": "ABX9TyO4qR8tHUpu2t0Nt3RuEI4/",
      "include_colab_link": true
    },
    "kernelspec": {
      "name": "python3",
      "display_name": "Python 3"
    }
  },
  "cells": [
    {
      "cell_type": "markdown",
      "metadata": {
        "id": "view-in-github",
        "colab_type": "text"
      },
      "source": [
        "<a href=\"https://colab.research.google.com/github/Richardo-Sitepu/Python_ModSim/blob/main/Assignment_12.ipynb\" target=\"_parent\"><img src=\"https://colab.research.google.com/assets/colab-badge.svg\" alt=\"Open In Colab\"/></a>"
      ]
    },
    {
      "cell_type": "code",
      "metadata": {
        "id": "082P-DyWV2U6"
      },
      "source": [
        "import numpy as np"
      ],
      "execution_count": 5,
      "outputs": []
    },
    {
      "cell_type": "code",
      "metadata": {
        "id": "WORj1xzv1OfR"
      },
      "source": [
        "def lp(d,fc,hr,ht,cm):\r\n",
        "  if fc in range (400,1500):\r\n",
        "    C1 = 69.55\r\n",
        "    C2 = 26.16\r\n",
        "  elif fc in range (1501,2000):\r\n",
        "    C1 = 46.3\r\n",
        "    C2 = 33.9\r\n",
        "  \r\n",
        "  if cm == 1:\r\n",
        "    Cm = 0\r\n",
        "  elif cm == 2:\r\n",
        "    Cm = (-2*(np.log10(fc/28))**2) - 5.4\r\n",
        "  elif cm == 3:\r\n",
        "    Cm = (-4.78*(np.log10(fc))**2) + (18.33*np.log10(fc)) - 40.94\r\n",
        "\r\n",
        "  Ahr = ((1.1*np.log10(fc)-0.7)*hr) - ((1.56*np.log10(fc)) - 0.8)\r\n",
        "\r\n",
        "  Lp = C1 + (C2*np.log10(fc)) - (13.83*np.log(ht)) - (Ahr) + ((44.9-(6.55*np.log10(ht)))*np.log10(d))+Cm\r\n",
        "  \r\n",
        "  return Lp"
      ],
      "execution_count": 6,
      "outputs": []
    },
    {
      "cell_type": "code",
      "metadata": {
        "colab": {
          "base_uri": "https://localhost:8080/"
        },
        "id": "mk69K0In3otM",
        "outputId": "9128352c-c896-4268-dad9-b8b50da753f1"
      },
      "source": [
        "Lpval = lp(7,1210,15,100,3)\r\n",
        "print(\"Pathloss = \",Lpval,\"dB\")"
      ],
      "execution_count": 7,
      "outputs": [
        {
          "output_type": "stream",
          "text": [
            "Pathloss =  47.16387793657965 dB\n"
          ],
          "name": "stdout"
        }
      ]
    }
  ]
}