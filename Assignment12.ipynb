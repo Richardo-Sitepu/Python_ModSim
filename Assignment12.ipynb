{
  "nbformat": 4,
  "nbformat_minor": 0,
  "metadata": {
    "colab": {
      "name": "Untitled0.ipynb",
      "provenance": [],
      "collapsed_sections": [],
      "authorship_tag": "ABX9TyNgpmAaees5axb+Z6AUBIcA",
      "include_colab_link": true
    },
    "kernelspec": {
      "name": "python3",
      "display_name": "Python 3"
    }
  },
  "cells": [
    {
      "cell_type": "markdown",
      "metadata": {
        "id": "view-in-github",
        "colab_type": "text"
      },
      "source": [
        "<a href=\"https://colab.research.google.com/github/Richardo-Sitepu/Python_ModSim/blob/main/Assignment12.ipynb\" target=\"_parent\"><img src=\"https://colab.research.google.com/assets/colab-badge.svg\" alt=\"Open In Colab\"/></a>"
      ]
    },
    {
      "cell_type": "code",
      "metadata": {
        "id": "LuJr7hxmFmt_"
      },
      "source": [
        ""
      ],
      "execution_count": null,
      "outputs": []
    },
    {
      "cell_type": "code",
      "metadata": {
        "id": "cArqS-NGmIQG"
      },
      "source": [
        "import numpy as np"
      ],
      "execution_count": 2,
      "outputs": []
    },
    {
      "cell_type": "code",
      "metadata": {
        "id": "d7zAqsZMH077"
      },
      "source": [
        "y=10*np.log10(100)\n",
        "print(y)"
      ],
      "execution_count": null,
      "outputs": []
    },
    {
      "cell_type": "code",
      "metadata": {
        "id": "2dROxd-4IC-k"
      },
      "source": [
        "NtL = lambda x: 10*np.log10(x)"
      ],
      "execution_count": null,
      "outputs": []
    },
    {
      "cell_type": "code",
      "metadata": {
        "id": "IE1SO9OHIYis"
      },
      "source": [
        "z=NtL(100)\n",
        "print(z)"
      ],
      "execution_count": null,
      "outputs": []
    },
    {
      "cell_type": "code",
      "metadata": {
        "id": "_ucTblHWIbv0"
      },
      "source": [
        "LtN = lambda x: 10**(x/10)"
      ],
      "execution_count": null,
      "outputs": []
    },
    {
      "cell_type": "code",
      "metadata": {
        "id": "5-3VMP_sI3w0"
      },
      "source": [
        "y=LtN(3)\n",
        "print(y)"
      ],
      "execution_count": null,
      "outputs": []
    },
    {
      "cell_type": "code",
      "metadata": {
        "id": "T8TtSdKzI-XM"
      },
      "source": [
        "PL = -22.75 + (20*np.log10(500)) + (20*np.log10(1800000000))\n",
        "print(PL)"
      ],
      "execution_count": null,
      "outputs": []
    },
    {
      "cell_type": "code",
      "metadata": {
        "id": "_RWlosFdLhlO"
      },
      "source": [
        "def ploss(d,f):\n",
        "  pldb=-22.75 + (20*np.log10(d)) + (20*np.log10(f))\n",
        "  plnum=LtN(-pldb)\n",
        "  return pldb,plnum"
      ],
      "execution_count": null,
      "outputs": []
    },
    {
      "cell_type": "code",
      "metadata": {
        "colab": {
          "base_uri": "https://localhost:8080/"
        },
        "id": "gEUKgGvcMQOA",
        "outputId": "ecb77d88-d645-4b7c-9134-181d6843b857"
      },
      "source": [
        "pathlossdb, pathlossnum = ploss(150,900000000)\n",
        "print(\"pathloss dalam db =\",pathlossdb,\"dB\")"
      ],
      "execution_count": null,
      "outputs": [
        {
          "output_type": "stream",
          "text": [
            "pathloss dalam db = 199.85667536990013 dB\n"
          ],
          "name": "stdout"
        }
      ]
    },
    {
      "cell_type": "code",
      "metadata": {
        "id": "zDI-D0swMuod"
      },
      "source": [
        "def Prx(d,f,Ptx):\n",
        "\n",
        "  #fungsi menghitung daya terima, input d(jarak(km))\n",
        "  #f(frekuensi(MHz)), dan Ptx(daya pancar (W))\n",
        "\n",
        "  #mengubah Ptx dari Watt ke dBW\n",
        "  Pdb = NtL(Ptx)\n",
        "\n",
        "  #menghitung pathloss\n",
        "  pldb= 32.5 + (20*np.log10(d)) + (20*np.log10(f))\n",
        "\n",
        "  #hitung prx dalam dB\n",
        "  prdb=Pdb-pldb\n",
        "\n",
        "  #ubah daya terima ke bentuk numerik\n",
        "  prx=LtN(prdb)\n",
        "\n",
        "  return prx,prdb"
      ],
      "execution_count": null,
      "outputs": []
    },
    {
      "cell_type": "code",
      "metadata": {
        "id": "Nc5Ml4gevZZv"
      },
      "source": [
        ""
      ],
      "execution_count": null,
      "outputs": []
    },
    {
      "cell_type": "code",
      "metadata": {
        "id": "zwqRcICvO-cw"
      },
      "source": [
        "PRX,PRDB=Prx(5,700,40)\n",
        "print(\"daya terima adalah :\", PRX,\"W\")"
      ],
      "execution_count": null,
      "outputs": []
    },
    {
      "cell_type": "code",
      "metadata": {
        "id": "VMAYXK4hQP0W"
      },
      "source": [
        "def noise(B):\n",
        "  #B adalah bandwidth dalam hertz\n",
        "  x=LtN(-144)\n",
        "  N=x*B\n",
        "  return N"
      ],
      "execution_count": null,
      "outputs": []
    },
    {
      "cell_type": "code",
      "metadata": {
        "id": "1y5663c4TJpO"
      },
      "source": [
        "Noise=noise(180000)\n",
        "print(Noise)"
      ],
      "execution_count": null,
      "outputs": []
    },
    {
      "cell_type": "code",
      "metadata": {
        "id": "Z3sNek2KTW3H"
      },
      "source": [
        "SNR = PRX/Noise\n",
        "print(SNR)"
      ],
      "execution_count": null,
      "outputs": []
    },
    {
      "cell_type": "markdown",
      "metadata": {
        "id": "K19WqGB6UsXP"
      },
      "source": [
        "SHANNON CAPACITY"
      ]
    },
    {
      "cell_type": "code",
      "metadata": {
        "id": "Sz1fT-6qvajO"
      },
      "source": [
        "for i in range(400,1500):\r\n",
        "  print(i)"
      ],
      "execution_count": null,
      "outputs": []
    },
    {
      "cell_type": "code",
      "metadata": {
        "id": "vmcYP5RaviMF"
      },
      "source": [
        "fc=399\r\n",
        "if fc in range(400,1500):\r\n",
        "  print('yes')\r\n",
        "elif :\r\n",
        "  print('no')"
      ],
      "execution_count": null,
      "outputs": []
    },
    {
      "cell_type": "code",
      "metadata": {
        "id": "lwOjfXSLv-pr"
      },
      "source": [
        ""
      ],
      "execution_count": null,
      "outputs": []
    }
  ]
}